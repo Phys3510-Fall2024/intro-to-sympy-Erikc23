{
 "cells": [
  {
   "cell_type": "markdown",
   "id": "30af46be-b93a-48c8-a06d-640979cb27cb",
   "metadata": {},
   "source": [
    "sympy can print latex\n",
    "shift enter to run code\n",
    "\n",
    "\n",
    "(1.1)\n",
    "$$\\ddot{Q} +2\\gamma  \\dot{Q} + \\frac{k}{m}Q=\\frac{F_0}{m}cos(\\omega t) $$ \n",
    "\n",
    "Transient sol\n",
    "\n",
    "(1.2)\n",
    "$$Q_{tr}(t)=e^{-\\gamma t}[Acos(\\omega_\\gamma t)+Bsin(\\omega_\\gamma t)]$$\n",
    "\n",
    "\n",
    "(1.3)\n",
    "$$\\omega_{\\gamma} = \\sqrt{\\omega ^2_0 - \\gamma^2}$$"
   ]
  },
  {
   "cell_type": "code",
   "execution_count": 1,
   "id": "911b041a-f8f7-4ff0-ac9c-4eac539bcee4",
   "metadata": {},
   "outputs": [
    {
     "data": {
      "text/plain": [
       "True"
      ]
     },
     "execution_count": 1,
     "metadata": {},
     "output_type": "execute_result"
    }
   ],
   "source": [
    "#import needed libraries\n",
    "#sympy uses numpy and has build in plotting capabilities\n",
    "\n",
    "import sympy as sp\n",
    "\n",
    "#testing transient solution to damped oscillator\n",
    "\n",
    "#def equation and variables\n",
    "\n",
    "A , B , omega_0, omega_gamma, gamma, t =sp.symbols(\"A,B,omega_0, omega_gamma, gamma, t\", real=True)\n",
    "\n",
    "Q=sp.Function(\"Q\")(t)\n",
    "    \n",
    "#original differential equation, equation 1.1\n",
    "\n",
    "diff_eqn_ref = sp.diff(Q,t,2) + 2*gamma*sp.diff(Q,t,1) + (omega_0**2)*Q\n",
    "\n",
    "#define guess for the solution\n",
    "#this is the guess we derived in class, equation 1.2\n",
    "\n",
    "Q_tr_guess = sp.exp(-gamma*t)*(A*sp.cos(omega_gamma*t)+B*sp.sin(omega_gamma*t) )\n",
    "\n",
    "#test\n",
    "\n",
    "#first defining the expression of omega_gamma, the dampened angular frequency equation 1.3\n",
    "omega_gamma_expr = sp.sqrt(omega_0**2-gamma**2)\n",
    "\n",
    "#now testing the solution by plugging in equation 1.2 to equation 1.1. \n",
    "diff_eqn_test = sp.diff(Q_tr_guess,t,2) + 2*gamma*sp.diff(Q_tr_guess,t,1) + (omega_0**2)*Q_tr_guess\n",
    "#testing result, first subbing in eqn 3 as omega_gamma, simplifying using built in expression, then testing if \n",
    "test_result=diff_eqn_test.subs(omega_gamma, omega_gamma_expr).simplify().is_zero\n",
    "test_result\n",
    "\n",
    "#differentiate guess twice\n",
    "\n",
    "#plug guess into diff equation"
   ]
  },
  {
   "cell_type": "markdown",
   "id": "421ea619-f7c7-48f7-9ccd-2f8e5fbdbb72",
   "metadata": {},
   "source": [
    "it works"
   ]
  },
  {
   "cell_type": "markdown",
   "id": "b97d7f7c-4f48-4bdd-8b01-833a43e6a62e",
   "metadata": {},
   "source": [
    "Deriving steady oscillatory solution\n",
    "$$Q_{st}=\\bar{C} cos(\\omega t -\\phi)$$\n",
    "\n",
    "$$\\bar{C}=\\frac{\\frac{F_0}{m}}{\\sqrt{(\\omega_0^2-\\omega^2)^2+(2\\gamma\\omega)^2}}$$\n",
    "\n",
    "$$\\phi=tan^{-1}(\\frac{2\\gamma\\omega}{\\omega_0^2-\\omega^2})$$\n",
    "\n",
    "\n",
    "we are trying to solve\n",
    "$$\\ddot{Q} +2\\gamma  \\dot{Q} + \\frac{k}{m}Q=\\frac{F_0}{m}e^{i\\omega t} $$ \n",
    "\n",
    "with\n",
    "$$Q=C e^{i\\omega t}$$"
   ]
  },
  {
   "cell_type": "code",
   "execution_count": 5,
   "id": "c5428c6d-5422-4329-92d7-66ef34cd5050",
   "metadata": {},
   "outputs": [
    {
     "data": {
      "text/latex": [
       "$\\displaystyle 0$"
      ],
      "text/plain": [
       "0"
      ]
     },
     "execution_count": 5,
     "metadata": {},
     "output_type": "execute_result"
    }
   ],
   "source": [
    "#modules\n",
    "import sympy as sp\n",
    "\n",
    "#def variables and functions\n",
    "#real and complex variables must be definied sepparately\n",
    "F_0 , omega_0, omega, gamma, t,m =sp.symbols(\"F_0,omega_0, omega, gamma, t,m\", real=True)\n",
    "C = sp.symbols(\"C\",complex=True)\n",
    "Q = sp.Function(\"Q\")(t)\n",
    "F = sp.Function(\"F\")(t)\n",
    "\n",
    "#def diff\n",
    "diff_eqn_ref = sp.Eq(\n",
    "    sp.diff\n",
    "    (Q,t,2) + 2*gamma*sp.diff(Q,t,1) + (omega_0**2)*Q, #left side\n",
    "    F/m #right side\n",
    ")\n",
    "\n",
    "#deff guess\n",
    "diff_eqn_guess=C*sp.exp(sp.I*omega*t)\n",
    "\n",
    "#drive expression\n",
    "drive_expr =(F_0/m)*sp.exp(sp.I*omega*t)\n",
    "\n",
    "\n",
    "#plug in guess\n",
    "diff_eqn_ref = sp.Eq(\n",
    "    sp.diff\n",
    "    (diff_eqn_guess,t,2) + 2*gamma*sp.diff(diff_eqn_guess,t,1) + (omega_0**2)*diff_eqn_guess, #left side\n",
    "    drive_expr\n",
    ")\n",
    "\n",
    "#solve for c\n",
    "C_sol=sp.solve(diff_eqn_guess,C)[0]\n",
    "\n",
    "\n",
    "#find real part\n",
    "Q_sol=sp.expand_complex(C_sol*sp.exp(sp.I*omega*t))\n",
    "Q_sol\n",
    "#plug in real part to diff\n",
    "#test the alt analytic form of eqn\n"
   ]
  },
  {
   "cell_type": "code",
   "execution_count": null,
   "id": "6fda174a-1618-4f5c-9d4d-4d26007f950b",
   "metadata": {},
   "outputs": [],
   "source": []
  }
 ],
 "metadata": {
  "kernelspec": {
   "display_name": "Python 3 (ipykernel)",
   "language": "python",
   "name": "python3"
  },
  "language_info": {
   "codemirror_mode": {
    "name": "ipython",
    "version": 3
   },
   "file_extension": ".py",
   "mimetype": "text/x-python",
   "name": "python",
   "nbconvert_exporter": "python",
   "pygments_lexer": "ipython3",
   "version": "3.9.19"
  }
 },
 "nbformat": 4,
 "nbformat_minor": 5
}
