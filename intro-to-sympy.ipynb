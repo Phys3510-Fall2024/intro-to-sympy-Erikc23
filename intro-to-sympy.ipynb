{
 "cells": [
  {
   "cell_type": "markdown",
   "id": "9c011f8e-c91f-4ed2-9aac-7cec86e4a071",
   "metadata": {},
   "source": [
    "# Working in SymPy\n",
    "\n",
    "`SymPy` is a package for symbolic manipulation of expressions, equations, and calculus. The [website](https://docs.sympy.org/latest/index.html) for `SymPy` has tutorials explaining how things work. You can also use the `help()` and `dir()` functions to explore the properties of the `SymPy` package.\n",
    "\n",
    "The way it is structured is that the different mathematical objects are defined with capital letters (e.g. `Symbol`, `Function`, `Matrix`) while the functions and utilities are defined with lower-case leading letters (e.g. `simplify`, `dsolve`)."
   ]
  },
  {
   "cell_type": "markdown",
   "id": "f02f4bb2-26fe-46c7-b8fb-4336f4c2576e",
   "metadata": {},
   "source": [
    "### 1. **Basic Operations**\n",
    "\n",
    "- `symbols()`: Define symbolic variables for expressions.\n",
    "- `subs()`: Substitute values or expressions for variables.\n",
    "- `sympify()`: Convert strings or Python objects to SymPy expressions.\n",
    "- `evalf()`: Evaluate expressions to floating-point numbers.\n",
    "- `lambdify()`: Convert symbolic expressions to numerical functions (supports backends like NumPy and SciPy).\n"
   ]
  },
  {
   "cell_type": "markdown",
   "id": "c273a14c-4628-42e5-8431-0cbd58476e53",
   "metadata": {},
   "source": [
    "### 2. **Simplifying Expressions**\n",
    "\n",
    "- `simplify()`: Simplify general expressions (algebraic, trigonometric, etc.).\n",
    "- `expand()`: Expand an expression (e.g., expand a polynomial or product).\n",
    "- `factor()`: Factor expressions (e.g., factor a polynomial).\n",
    "- `collect()`: Collect like terms in an expression.\n",
    "- `apart()`: Partial fraction decomposition of rational expressions.\n",
    "- `cancel()`: Cancel common factors in a rational function.\n",
    "- `trigsimp()`: Simplify trigonometric expressions.\n",
    "- `logcombine()`: Combine logarithmic terms into a single expression.\n",
    "- `powsimp()`: Simplify powers and exponents.\n"
   ]
  },
  {
   "cell_type": "markdown",
   "id": "17af0651-4cea-4dee-8b50-ff48f9118935",
   "metadata": {},
   "source": [
    "### 3. **Calculus**\n",
    "\n",
    "#### 3.1 Derivatives\n",
    "- `diff()`: Compute derivatives of expressions (supports higher-order derivatives).\n",
    "\n",
    "#### 3.2 Integrals\n",
    "- `integrate()`: Compute symbolic integrals (both definite and indefinite).\n",
    "- `integrate(f, (var, a, b))`: Compute definite integrals over an interval.\n",
    "  \n",
    "#### 3.3 Limits\n",
    "- `limit()`: Compute the limit of an expression as a variable approaches a value.\n",
    "\n",
    "#### 3.4 Series\n",
    "- `series()`: Expand a function in a Taylor or Laurent series around a point.\n"
   ]
  },
  {
   "cell_type": "markdown",
   "id": "87d5dd3d-d260-4df4-a02b-0e3e1525ffde",
   "metadata": {},
   "source": [
    "### 4. **Linear Algebra**\n",
    "\n",
    "- `Matrix()`: Define symbolic matrices.\n",
    "- `det()`: Compute the determinant of a matrix.\n",
    "- `inv()`: Compute the inverse of a matrix.\n",
    "- `eigenvals()`: Compute eigenvalues of a matrix.\n",
    "- `eigenvects()`: Compute eigenvectors of a matrix.\n",
    "- `solve_linear_system()`: Solve a system of linear equations.\n",
    "- `transpose()`: Transpose a matrix.\n",
    "- `rref()`: Compute the reduced row echelon form of a matrix.\n"
   ]
  },
  {
   "cell_type": "markdown",
   "id": "fcdad056-2414-42d9-844a-ed5dd00f58ec",
   "metadata": {},
   "source": [
    "### 5. **Differential Equations**\n",
    "\n",
    "- `dsolve()`: Solve ordinary differential equations (ODEs).\n",
    "- `Function()`: Define a function that represents the solution of a differential equation.\n",
    "- `Eq()`: Set up an equation (useful for defining differential equations).\n",
    "- `classify_ode()`: Classify an ODE to determine its solution method.\n",
    "- `checkodesol()`: Check whether a solution satisfies a given differential equation.\n"
   ]
  },
  {
   "cell_type": "markdown",
   "id": "83afdf77-b9ef-49ac-81cb-8808919406cc",
   "metadata": {},
   "source": [
    "### 6. **Solving Equations**\n",
    "\n",
    "- `solve()`: Solve algebraic equations (returns roots or solutions).\n",
    "- `nonlinsolve()`: Solve systems of nonlinear equations.\n",
    "- `linsolve()`: Solve systems of linear equations.\n",
    "- `solvers.solvers.solve()`: A more general solver for symbolic equations.\n",
    "- `solvers.decomp_ineq()`: Decompose inequalities for solving them.\n"
   ]
  },
  {
   "cell_type": "markdown",
   "id": "d553c212-6c9a-4bae-8f59-eac3f40886b5",
   "metadata": {},
   "source": [
    "### 7. **Polynomials**\n",
    "\n",
    "- `Poly()`: Create a polynomial object for more control over polynomials.\n",
    "- `degree()`: Get the degree of a polynomial.\n",
    "- `roots()`: Find the roots of a polynomial.\n",
    "- `gcd()`: Compute the greatest common divisor of polynomials.\n",
    "- `lcm()`: Compute the least common multiple of polynomials.\n"
   ]
  },
  {
   "cell_type": "markdown",
   "id": "29b03144-71d0-437e-88f1-bdc36b948df3",
   "metadata": {},
   "source": [
    "### 8. **Trigonometry**\n",
    "\n",
    "- `sin()`, `cos()`, `tan()`: Basic trigonometric functions.\n",
    "- `asin()`, `acos()`, `atan()`: Inverse trigonometric functions.\n",
    "- `expand_trig()`: Expand trigonometric expressions (e.g., using angle addition formulas).\n",
    "- `trigsimp()`: Simplify trigonometric expressions.\n",
    "- `rewrite()`: Rewrite trigonometric functions in terms of other functions (e.g., rewrite `sin(x)` in terms of exponential functions).\n"
   ]
  },
  {
   "cell_type": "markdown",
   "id": "00b21f75-b3d3-4452-83b2-c9e95ae4a2ca",
   "metadata": {},
   "source": [
    "### Here's an example of how to solve a quadratic equation"
   ]
  },
  {
   "cell_type": "code",
   "execution_count": 119,
   "id": "1292573a-ec37-405d-b771-6148870a5196",
   "metadata": {},
   "outputs": [
    {
     "data": {
      "text/plain": [
       "[(-b - sqrt(-4*a*c + b**2))/(2*a), (-b + sqrt(-4*a*c + b**2))/(2*a)]"
      ]
     },
     "execution_count": 119,
     "metadata": {},
     "output_type": "execute_result"
    }
   ],
   "source": [
    "import sympy as sp\n",
    "\n",
    "# Define the symbolic variables\n",
    "a, b, c, x = sp.symbols('a b c x')\n",
    "\n",
    "# Define the quadratic equation: ax^2 + bx + c = 0\n",
    "quadratic_eq = sp.Eq(a*x**2 + b*x + c, 0)\n",
    "\n",
    "# Solve the quadratic equation for x\n",
    "solutions = sp.solve(quadratic_eq, x)\n",
    "\n",
    "# Display the solutions\n",
    "solutions\n"
   ]
  },
  {
   "cell_type": "markdown",
   "id": "6f130c0d-870b-4e8e-b398-f4a3ea395e30",
   "metadata": {},
   "source": [
    "### Here's an example of how to solve a differential equation"
   ]
  },
  {
   "cell_type": "code",
   "execution_count": 120,
   "id": "1d908ff4-300b-41da-b3a2-e4b466632edb",
   "metadata": {},
   "outputs": [
    {
     "data": {
      "text/latex": [
       "$\\displaystyle y{\\left(x \\right)} = y_{0} e^{- \\frac{b x}{a}} e^{\\frac{b x_{0}}{a}}$"
      ],
      "text/plain": [
       "Eq(y(x), y0*exp(-b*x/a)*exp(b*x0/a))"
      ]
     },
     "execution_count": 120,
     "metadata": {},
     "output_type": "execute_result"
    }
   ],
   "source": [
    "import sympy as sp\n",
    "\n",
    "# Define the symbolic variables and function\n",
    "x, x0, y0, a, b = sp.symbols('x x0 y0 a b')  # Independent variable, constants, initial condition\n",
    "y = sp.Function('y')(x)  # Dependent variable y as a function of x\n",
    "\n",
    "# Define the first-order differential equation: a*y' + b*y = 0\n",
    "diff_eq = sp.Eq(a * y.diff(x) + b * y, 0)\n",
    "\n",
    "# Solve the differential equation\n",
    "general_solution = sp.dsolve(diff_eq, y)\n",
    "\n",
    "# Extract the solution for y(x)\n",
    "solution_y = general_solution.rhs\n",
    "\n",
    "# Apply the initial condition: y(x0) = y0\n",
    "initial_condition = sp.Eq(solution_y.subs(x, x0), y0)\n",
    "\n",
    "# Solve for the constant C1\n",
    "C1_value = sp.solve(initial_condition, sp.symbols('C1'))[0]\n",
    "\n",
    "# Substitute C1 back into the general solution\n",
    "solution_with_ic = general_solution.subs(sp.symbols('C1'), C1_value)\n",
    "\n",
    "# Display the solution with initial conditions\n",
    "solution_with_ic\n"
   ]
  },
  {
   "cell_type": "markdown",
   "id": "3cc4df62-649e-44a5-8162-29d985bff03d",
   "metadata": {},
   "source": [
    "## Assignment (1): Use `SymPy` to test the solutions we derived in class last week. \n",
    "1$$\\ddot{Q} +2\\gamma  \\dot{Q} + \\frac{k}{m}Q=\\frac{F_0}{m}e^{i\\omega t} $$ \n",
    "2$$Q_{tr} = e^{-\\gamma t}[A cos(\\omega_\\gamma t) + B sin(\\omega_\\gamma t)]$$\n",
    "\n",
    "and \n",
    "\n",
    "3$$Q_{st} = \\bar{C} cos(\\omega t - \\phi)$$\n",
    "\n",
    "where\n",
    "\n",
    "4$$\\omega_\\gamma = \\sqrt{\\omega_0^2 - \\gamma^2}$$,\n",
    "\n",
    "5$$\\bar{C} = \\frac{F_0/m}{\\sqrt{(\\omega_0^2-\\omega^2)^2+4\\gamma^2\\omega^2}}$$,\n",
    "\n",
    "\n",
    "\n",
    "6$$tan(\\phi) = \\frac{2\\gamma\\omega}{\\omega_0^2-\\omega^2}$$\n",
    "\n",
    "\n",
    "\n"
   ]
  },
  {
   "cell_type": "code",
   "execution_count": 121,
   "id": "5b7e4495-2046-404c-acfb-f4354c54fb15",
   "metadata": {},
   "outputs": [],
   "source": [
    "import sympy as sp\n",
    "import numpy as np\n",
    "import matplotlib.pyplot as plt\n",
    "from ipywidgets import interact, FloatSlider,Button, VBox\n"
   ]
  },
  {
   "cell_type": "code",
   "execution_count": 122,
   "id": "acbdddf9-70cf-43bf-9fd0-0716bac5cefd",
   "metadata": {},
   "outputs": [
    {
     "data": {
      "text/plain": [
       "True"
      ]
     },
     "execution_count": 122,
     "metadata": {},
     "output_type": "execute_result"
    }
   ],
   "source": [
    "\n",
    "#testing transient solution to damped oscillator\n",
    "\n",
    "#def equation and variables\n",
    "\n",
    "A , B , omega_0, omega_gamma, gamma, t =sp.symbols(\"A,B,omega_0, omega_gamma, gamma, t\", real=True)\n",
    "\n",
    "Q=sp.Function(\"Q\")(t)\n",
    "    \n",
    "#original differential equation, equation 1\n",
    "\n",
    "diff_eqn_ref = sp.diff(Q,t,2) + 2*gamma*sp.diff(Q,t,1) + (omega_0**2)*Q\n",
    "\n",
    "#define guess for the solution\n",
    "#this is the guess we derived in class, equation 2\n",
    "\n",
    "Q_tr_guess = sp.exp(-gamma*t)*(A*sp.cos(omega_gamma*t)+B*sp.sin(omega_gamma*t) )\n",
    "\n",
    "#test\n",
    "\n",
    "#first defining the expression of omega_gamma, the dampened angular frequency equation 3\n",
    "omega_gamma_expr = sp.sqrt(omega_0**2-gamma**2)\n",
    "\n",
    "#now testing the solution by plugging in equation 2 to equation 1. \n",
    "diff_eqn_test = sp.diff(Q_tr_guess,t,2) + 2*gamma*sp.diff(Q_tr_guess,t,1) + (omega_0**2)*Q_tr_guess\n",
    "#testing result, first subbing in eqn 4 as omega_gamma, simplifying using built in expression, \n",
    "test_result=diff_eqn_test.subs(omega_gamma, omega_gamma_expr).simplify().is_zero\n",
    "test_result\n"
   ]
  },
  {
   "cell_type": "code",
   "execution_count": 123,
   "id": "362438af-6cdb-4957-b931-05abae64020b",
   "metadata": {},
   "outputs": [
    {
     "data": {
      "text/latex": [
       "$\\displaystyle 0$"
      ],
      "text/plain": [
       "0"
      ]
     },
     "execution_count": 123,
     "metadata": {},
     "output_type": "execute_result"
    }
   ],
   "source": [
    "#def variables and functions\n",
    "#real and complex variables must be definied sepparately\n",
    "F_0 , omega_0, omega, gamma, t,m,C =sp.symbols(\"F_0,omega_0, omega, gamma, t,m,C\", real=True)\n",
    "\n",
    "Q = sp.Function(\"Q\")(t)\n",
    "F = sp.Function(\"F\")(t)\n",
    "\n",
    "#def diff, eq 1\n",
    "diff_eqn_ref = sp.diff(Q,t,2) + 2*gamma*sp.diff(Q,t,1) + (omega_0**2)*Q\n",
    "\n",
    "\n",
    "\n",
    "#phi expression, eq 6\n",
    "phi_expr=sp.atan((2*gamma*omega)/(omega_0**2-omega**2))\n",
    "\n",
    "#steady sol guess, eq 3\n",
    "Q_st_guess= C*sp.cos(omega*t-phi_expr)\n",
    "\n",
    "#plug in guess\n",
    "diff_eqn_test =sp.diff(Q_st_guess,t,2) + 2*gamma*sp.diff(Q_st_guess,t,1) + (omega_0**2)*Q_st_guess\n",
    "\n",
    "C_sol=sp.solve(Q_st_guess,C)[0]\n",
    "Q_sol=sp.expand_complex(C_sol*sp.cos(omega*t-phi_expr))\n",
    "Q_sol"
   ]
  },
  {
   "cell_type": "markdown",
   "id": "7abe929c-4ca7-4690-84b6-216369e0c4a1",
   "metadata": {},
   "source": [
    "## Assignment (2): Create representative plots of $\\bar{C}$ and $\\phi$ \n"
   ]
  },
  {
   "cell_type": "markdown",
   "id": "7d1db947-a75e-46e6-91fe-d39ac8a3f0dc",
   "metadata": {},
   "source": [
    "<span style=\"color: #c1ff72 \">\n",
    "\n",
    "** sp.lamdify, turns a symbolic sympy function into a numerical function **\n",
    "remember this for graphing in the future so it actually works\n",
    "\n",
    "</span>"
   ]
  },
  {
   "cell_type": "code",
   "execution_count": 124,
   "id": "bd95820b-00dd-4a62-8469-b3920f119988",
   "metadata": {},
   "outputs": [
    {
     "data": {
      "application/vnd.jupyter.widget-view+json": {
       "model_id": "ef8c780f20504c64adf11846def29674",
       "version_major": 2,
       "version_minor": 0
      },
      "text/plain": [
       "interactive(children=(FloatSlider(value=1.0, description='C:', max=5.0, min=0.1), Output()), _dom_classes=('wi…"
      ]
     },
     "metadata": {},
     "output_type": "display_data"
    },
    {
     "data": {
      "text/plain": [
       "<function __main__.update(C)>"
      ]
     },
     "execution_count": 124,
     "metadata": {},
     "output_type": "execute_result"
    }
   ],
   "source": [
    "# Everything should be here so that the cell will run on it's own, if it doesn't work please try going to the toolbar at the top\n",
    "# and clicking run > run all cells. \n",
    "#This works on my end as of me turning this in\n",
    "\n",
    "\n",
    "\n",
    "#import needed modules\n",
    "import numpy as np\n",
    "import sympy as sp\n",
    "import matplotlib.pyplot as plt\n",
    "from ipywidgets import interact, FloatSlider\n",
    "\n",
    "# Define symbols\n",
    "F_0, omega_0, omega, gamma, t, m = sp.symbols(\"F_0 omega_0 omega gamma t m\", real=True)\n",
    "\n",
    "# Function with sympy\n",
    "def motion(phi, C, omega, omega_0, gamma, x_min, x_max, y_min, y_max):\n",
    "    \n",
    "    # Steady solution guess\n",
    "    Q_st_guess = C * sp.cos(omega * t - phi)\n",
    "    \n",
    "    # Compute the motion with sympy\n",
    "    motion_expr = sp.diff(Q_st_guess, t, 2) + 2 * gamma * sp.diff(Q_st_guess, t, 1) + (omega_0**2) * Q_st_guess\n",
    "    \n",
    "    # Convert to numerical instead of symbolic with lambdify\n",
    "    motion_func = sp.lambdify(t, motion_expr, 'numpy')  \n",
    "    \n",
    "    # t values, range of 1 minute, calculates for every 1/100th of a second.\n",
    "    t_vals = np.linspace(0, 60, 6000)\n",
    "    \n",
    "    # Evaluate the motion function at the t values\n",
    "    y_vals = motion_func(t_vals)\n",
    "    \n",
    "    # Plot the result\n",
    "    plt.figure(figsize=(8, 6))\n",
    "    plt.plot(t_vals, y_vals, label=f'C={C}, phi={phi}, omega={omega}, omega_0={omega_0}, gamma={gamma}')\n",
    "    plt.title('Motion of the System')\n",
    "    plt.xlabel('Time (t)')\n",
    "    plt.ylabel('Motion')\n",
    "    plt.grid(True)\n",
    "    plt.legend()\n",
    "    \n",
    "    # Set the limits for the x and y axes\n",
    "    plt.xlim(x_min, x_max)\n",
    "    plt.ylim(y_min, y_max)\n",
    "    \n",
    "    plt.show()\n",
    "\n",
    "# Set fixed parameters\n",
    "phi = 0 #left at zero here\n",
    "omega = 1\n",
    "omega_0 = 1\n",
    "gamma = 1\n",
    "\n",
    "# Set axis limits\n",
    "x_min = 0\n",
    "x_max = 60\n",
    "y_min = -10\n",
    "y_max = 10\n",
    "\n",
    "# Update function for the slider value\n",
    "def update(C):\n",
    "    # Call the motion function with C value from slider\n",
    "    motion(phi, C, omega, omega_0, gamma, x_min, x_max, y_min, y_max)\n",
    "\n",
    "# slider for C\n",
    "slider_C = FloatSlider(value=1.0, min=0.1, max=5.0, step=0.1, description='C:')\n",
    "\n",
    "# Interact for slider\n",
    "interact(update, C=slider_C)\n",
    "\n"
   ]
  },
  {
   "cell_type": "code",
   "execution_count": 125,
   "id": "e0e11d15-2606-454c-a13c-41ba56314490",
   "metadata": {},
   "outputs": [
    {
     "data": {
      "application/vnd.jupyter.widget-view+json": {
       "model_id": "460706c7e7e24b1ebc0d9dce2545f460",
       "version_major": 2,
       "version_minor": 0
      },
      "text/plain": [
       "interactive(children=(FloatSlider(value=0.0, description='phi:', max=3.14, min=-3.14), Output()), _dom_classes…"
      ]
     },
     "metadata": {},
     "output_type": "display_data"
    },
    {
     "data": {
      "text/plain": [
       "<function __main__.update(phi)>"
      ]
     },
     "execution_count": 125,
     "metadata": {},
     "output_type": "execute_result"
    }
   ],
   "source": [
    "#import needed modules\n",
    "import numpy as np\n",
    "import sympy as sp\n",
    "import matplotlib.pyplot as plt\n",
    "from ipywidgets import interact, FloatSlider\n",
    "\n",
    "# Define symbols\n",
    "F_0, omega_0, omega, gamma, t, m = sp.symbols(\"F_0 omega_0 omega gamma t m\", real=True)\n",
    "\n",
    "# Function with sympy\n",
    "def motion(phi, C, omega, omega_0, gamma, x_min, x_max, y_min, y_max):\n",
    "    \n",
    "    # Steady solution guess\n",
    "    Q_st_guess = C * sp.cos(omega * t - phi)\n",
    "    \n",
    "    # Compute the motion with sympy\n",
    "    motion_expr = sp.diff(Q_st_guess, t, 2) + 2 * gamma * sp.diff(Q_st_guess, t, 1) + (omega_0**2) * Q_st_guess\n",
    "    \n",
    "    # Convert to numerical instead of symbolic with lambdify\n",
    "    motion_func = sp.lambdify(t, motion_expr, 'numpy')  \n",
    "    \n",
    "    # t values, range of 1 minute, calculates for every 1/100th of a second.\n",
    "    t_vals = np.linspace(0, 60, 6000)\n",
    "    \n",
    "    # Evaluate the motion function at the t values\n",
    "    y_vals = motion_func(t_vals)\n",
    "    \n",
    "    # Plot the result\n",
    "    plt.figure(figsize=(8, 6))\n",
    "    plt.plot(t_vals, y_vals, label=f'C={C}, phi={phi}, omega={omega}, omega_0={omega_0}, gamma={gamma}')\n",
    "    plt.title('Motion of the System')\n",
    "    plt.xlabel('Time (t)')\n",
    "    plt.ylabel('Motion')\n",
    "    plt.grid(True)\n",
    "    plt.legend()\n",
    "    \n",
    "    # Set the limits for the x and y axes\n",
    "    plt.xlim(x_min, x_max)\n",
    "    plt.ylim(y_min, y_max)\n",
    "    \n",
    "    plt.show()\n",
    "\n",
    "# Set fixed parameters\n",
    "C = 3 \n",
    "omega = 1\n",
    "omega_0 = 1\n",
    "gamma = 1\n",
    "\n",
    "# Set axis limits\n",
    "x_min = 0\n",
    "x_max = 60\n",
    "y_min = -10\n",
    "y_max = 10\n",
    "\n",
    "# Update function for phi slider\n",
    "def update(phi):\n",
    "    # Call the motion function with phi updated\n",
    "    motion(phi, C, omega, omega_0, gamma, x_min, x_max, y_min, y_max)\n",
    "\n",
    "# phi slider\n",
    "slider_phi = FloatSlider(value=0, min=-3.14, max=3.14, step=0.1, description='phi:')\n",
    "\n",
    "# interact for phi slider\n",
    "interact(update, phi=slider_phi)\n"
   ]
  },
  {
   "cell_type": "markdown",
   "id": "d940be08-228c-45ee-a15d-644b64891531",
   "metadata": {},
   "source": [
    "<span style=\"color: #c1ff72 \">\n",
    "\n",
    "C is amplitude and phi is a phase shift.\n",
    "\n",
    "</span>"
   ]
  }
 ],
 "metadata": {
  "kernelspec": {
   "display_name": "Python 3 (ipykernel)",
   "language": "python",
   "name": "python3"
  },
  "language_info": {
   "codemirror_mode": {
    "name": "ipython",
    "version": 3
   },
   "file_extension": ".py",
   "mimetype": "text/x-python",
   "name": "python",
   "nbconvert_exporter": "python",
   "pygments_lexer": "ipython3",
   "version": "3.9.19"
  }
 },
 "nbformat": 4,
 "nbformat_minor": 5
}
